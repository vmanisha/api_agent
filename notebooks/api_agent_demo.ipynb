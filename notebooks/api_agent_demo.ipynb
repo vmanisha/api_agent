{
 "cells": [
  {
   "cell_type": "code",
   "execution_count": null,
   "id": "cee9e8b7",
   "metadata": {},
   "outputs": [],
   "source": [
    "!pip3 install langchain transformers openapi-pydantic pydantic==1.10.9 openapi-schema-pydantic\n",
    "!pip3 install sentence-transformers opensearch-py"
   ]
  },
  {
   "cell_type": "code",
   "execution_count": 1,
   "id": "f2a20816",
   "metadata": {},
   "outputs": [],
   "source": [
    "%load_ext autoreload\n",
    "%autoreload 2"
   ]
  },
  {
   "cell_type": "markdown",
   "id": "1288f94b",
   "metadata": {},
   "source": [
    "#### Index all functions from API"
   ]
  },
  {
   "cell_type": "code",
   "execution_count": 9,
   "id": "d98f5f74",
   "metadata": {},
   "outputs": [],
   "source": [
    "from data_processing import APISpecIndex\n",
    "from sentence_transformers import SentenceTransformer"
   ]
  },
  {
   "cell_type": "code",
   "execution_count": null,
   "id": "35519459",
   "metadata": {},
   "outputs": [],
   "source": [
    "specs_processor = APISpecIndex('qia3iowywamezen9p0mk.us-east-1.aoss.amazonaws.com', \"api_functions\")\n",
    "embedding_model = SentenceTransformer(\"BAAI/bge-base-en-v1.5\")\n",
    "open_api_object = specs_processor.get_api_from_link(\"https://api.merge.dev/api/crm/v1/schema\")\n"
   ]
  },
  {
   "cell_type": "code",
   "execution_count": null,
   "id": "09fb5ca8",
   "metadata": {},
   "outputs": [],
   "source": [
    "specs_processor.index_documents(open_api_object, embedding_model)"
   ]
  },
  {
   "cell_type": "code",
   "execution_count": 12,
   "id": "7ff34ae1",
   "metadata": {},
   "outputs": [
    {
     "data": {
      "text/plain": [
       "{'count': 439,\n",
       " '_shards': {'total': 0, 'successful': 0, 'skipped': 0, 'failed': 0}}"
      ]
     },
     "execution_count": 12,
     "metadata": {},
     "output_type": "execute_result"
    }
   ],
   "source": [
    "specs_processor.opensearch_client.count()"
   ]
  },
  {
   "cell_type": "markdown",
   "id": "fac8d623",
   "metadata": {},
   "source": [
    "#### Ask a user query"
   ]
  },
  {
   "cell_type": "code",
   "execution_count": 2,
   "id": "87e2fe0c",
   "metadata": {},
   "outputs": [],
   "source": [
    "from conversation_manager import *"
   ]
  },
  {
   "cell_type": "code",
   "execution_count": 3,
   "id": "926951c1",
   "metadata": {},
   "outputs": [
    {
     "name": "stdout",
     "output_type": "stream",
     "text": [
      "RequestError(400, 'resource_already_exists_exception', 'OpenSearch exception [type=resource_already_exists_exception, reason=index [api_functions/9aNyoo4B75eYa7q9j_Dz] already exists]- server : [envoy]')\n"
     ]
    }
   ],
   "source": [
    "test_agent = ConversationAgent('qia3iowywamezen9p0mk.us-east-1.aoss.amazonaws.com', \"api_functions\", \"BAAI/bge-base-en-v1.5\")"
   ]
  },
  {
   "cell_type": "code",
   "execution_count": 13,
   "id": "66c98135",
   "metadata": {
    "scrolled": false
   },
   "outputs": [
    {
     "name": "stdout",
     "output_type": "stream",
     "text": [
      "Retrieved total  10 results\n",
      "function name /employees\n",
      "function name /employee-payroll-runs/{id}\n",
      "function name /employee-payroll-runs\n",
      "function name /time-off\n",
      "function name /employees/{id}\n",
      "function name /time-off-balances\n",
      "function name /timesheet-entries\n",
      "function name /time-off-balances/{id}\n",
      "function name /employments\n",
      "function name /employments/{id}\n",
      "API Functions selected by Language model:  To get the total number of vacation days for an employee with id 134, we need to follow these steps:\n",
      "\n",
      "<result>\n",
      "<reason>Get the time off balances for the employee</reason>\n",
      "<function_name>/time-off-balances</function_name>\n",
      "<input_parameters>\n",
      "{\n",
      "  \"employee_id\": \"134\",\n",
      "  \"policy_type\": \"VACATION\"\n",
      "}\n",
      "</input_parameters>\n",
      "</result>\n",
      "\n",
      "<result>\n",
      "<reason>From the list of time off balances, find the one with policy type 'VACATION' and get the 'total_balance' field value</reason>\n",
      "<function_name>/time-off-balances/{id}</function_name>\n",
      "<input_parameters>\n",
      "{\n",
      "  \"id\": \"time_off_balance_id_with_policy_type_vacation\",\n",
      "  \"expand\": \"employee\"\n",
      "}\n",
      "</input_parameters>\n",
      "</result>\n",
      "\n",
      "The 'total_balance' field value from the TimeOffBalance object with policy type 'VACATION' will give the total number of vacation days for the employee with id 134.\n",
      "------ We have to make following function calls ------\n",
      "  [{'function_name': '/time-off-balances', 'input_parameters': ' {   \"employee_id\": \"134\",   \"policy_type\": \"VACATION\" } '}, {'function_name': '/time-off-balances/{id}', 'input_parameters': ' {   \"id\": \"time_off_balance_id_with_policy_type_vacation\",   \"expand\": \"employee\" } '}]\n"
     ]
    }
   ],
   "source": [
    "test_agent.run_query('Get total number of vacation days for employee id 134', None)"
   ]
  },
  {
   "cell_type": "code",
   "execution_count": 15,
   "id": "d596e07e",
   "metadata": {},
   "outputs": [
    {
     "name": "stdout",
     "output_type": "stream",
     "text": [
      "Retrieved total  10 results\n",
      "function name /employees\n",
      "function name /employments\n",
      "function name /employments/{id}\n",
      "function name /employee-payroll-runs\n",
      "function name /employer-benefits\n",
      "function name /employee-payroll-runs/{id}\n",
      "function name /employees/{id}\n",
      "function name /payroll-runs\n",
      "function name /timesheet-entries\n",
      "function name /employer-benefits/{id}\n",
      "API Functions selected by Language model:  To answer the query \"How many employees do I have?\", we can use the `/employees` endpoint with the following steps:\n",
      "\n",
      "<result>\n",
      "<reason>Get a list of all employees</reason>\n",
      "<function_name>/employees</function_name>\n",
      "<input_parameters>\n",
      "{\n",
      "  \"X-Account-Token\": \"Token identifying the end user\"\n",
      "}\n",
      "</input_parameters>\n",
      "</result>\n",
      "\n",
      "This will return a list of `Employee` objects. We can then count the number of objects in the list to get the total number of employees.\n",
      "\n",
      "No additional input parameters are required for this endpoint to retrieve the list of employees. The `X-Account-Token` header is needed to authenticate the request.\n",
      "\n",
      "\n",
      "------ We have to make following function calls ------\n",
      "\n",
      "\n",
      "  [{'function_name': '/employees', 'input_parameters': ' {   \"X-Account-Token\": \"Token identifying the end user\" } '}]\n"
     ]
    }
   ],
   "source": [
    "test_agent.run_query('How many employes do i have', None)"
   ]
  },
  {
   "cell_type": "markdown",
   "id": "720e8558",
   "metadata": {},
   "source": [
    "### Assuming some of the above calls result in an answer\n",
    "\n",
    "* {'function_name': '/time-off-balances', 'input_parameters': ' {   \"employee_id\": \"134\",   \"policy_type\": \"VACATION\" } '} ---> ```[{'function_name':'/time-off-balances','response':'34'}]```\n",
    "\n",
    "* {'function_name': '/employees', 'input_parameters': ' {   \"X-Account-Token\": \"Token identifying the end user\" } '} ---> ```[{'function_name':'/employees','response':['employee 1', 'employee 2', 'employee 3']}]```"
   ]
  },
  {
   "cell_type": "code",
   "execution_count": 17,
   "id": "e2a90849",
   "metadata": {},
   "outputs": [
    {
     "name": "stdout",
     "output_type": "stream",
     "text": [
      "Retrieved total  10 results\n",
      "function name /employees\n",
      "function name /employments\n",
      "function name /employments/{id}\n",
      "function name /employee-payroll-runs\n",
      "function name /employer-benefits\n",
      "function name /employee-payroll-runs/{id}\n",
      "function name /employees/{id}\n",
      "function name /payroll-runs\n",
      "function name /timesheet-entries\n",
      "function name /employer-benefits/{id}\n",
      "\n",
      "\n",
      "------ Final answer  ------\n",
      "\n",
      "\n",
      " {\n",
      "  \"reason\": \"The response from the '/employees' function contains a list of 3 employee names, which directly answers the question 'How many employees do I have?'\",\n",
      "  \"answer\": \"You have 3 employees.\"\n",
      "}\n"
     ]
    }
   ],
   "source": [
    "test_agent.run_query('How many employes do i have', None)"
   ]
  },
  {
   "cell_type": "code",
   "execution_count": 18,
   "id": "c4118e7f",
   "metadata": {},
   "outputs": [
    {
     "name": "stdout",
     "output_type": "stream",
     "text": [
      "Retrieved total  10 results\n",
      "function name /employees\n",
      "function name /employee-payroll-runs/{id}\n",
      "function name /employee-payroll-runs\n",
      "function name /time-off\n",
      "function name /employees/{id}\n",
      "function name /time-off-balances\n",
      "function name /timesheet-entries\n",
      "function name /time-off-balances/{id}\n",
      "function name /employments\n",
      "function name /employments/{id}\n",
      "\n",
      "\n",
      "------ Final answer  ------\n",
      "\n",
      "\n",
      " {\n",
      "  \"reason\": \"The response from the '/time-off-balances' function provides the total number of vacation days for the employee with ID 134, which directly answers the user's query.\",\n",
      "  \"answer\": \"The total number of vacation days for employee ID 134 is 34.\"\n",
      "}\n"
     ]
    }
   ],
   "source": [
    "test_agent.run_query('Get total number of vacation days for employee id 134', None)"
   ]
  },
  {
   "cell_type": "code",
   "execution_count": null,
   "id": "2f12c947",
   "metadata": {},
   "outputs": [],
   "source": []
  }
 ],
 "metadata": {
  "kernelspec": {
   "display_name": "conda_pytorch_p310",
   "language": "python",
   "name": "conda_pytorch_p310"
  },
  "language_info": {
   "codemirror_mode": {
    "name": "ipython",
    "version": 3
   },
   "file_extension": ".py",
   "mimetype": "text/x-python",
   "name": "python",
   "nbconvert_exporter": "python",
   "pygments_lexer": "ipython3",
   "version": "3.10.13"
  }
 },
 "nbformat": 4,
 "nbformat_minor": 5
}
